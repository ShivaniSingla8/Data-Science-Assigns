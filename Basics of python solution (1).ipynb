{
 "cells": [
  {
   "cell_type": "markdown",
   "id": "d2e5ac5e-feab-4e65-9ff1-df849bb81460",
   "metadata": {},
   "source": [
    "Prime numbers"
   ]
  },
  {
   "cell_type": "code",
   "execution_count": 1,
   "id": "56c076fa-5f1f-47d1-976e-b43087f8e175",
   "metadata": {},
   "outputs": [
    {
     "name": "stdin",
     "output_type": "stream",
     "text": [
      "ENTER A NUMBER:  8\n"
     ]
    },
    {
     "name": "stdout",
     "output_type": "stream",
     "text": [
      "8 is not a prime number\n"
     ]
    }
   ],
   "source": [
    "# Shivani\n",
    "# Input from the user\n",
    "n = int(input(\"ENTER A NUMBER: \"))\n",
    "# If number is greater than 1\n",
    "if n > 1:\n",
    "# Check if factors exist or not\n",
    " for i in range(2, n):\n",
    "     if (n%i) == 0:\n",
    "      print (n, \"is not a prime number\")\n",
    "      break\n",
    " else:\n",
    "     print (n, \"is a prime number\")\n",
    "# Else if input number is less than or equal to 1\n",
    "else:\n",
    "  print(n, \"is not a prime number\")"
   ]
  },
  {
   "cell_type": "markdown",
   "id": "d688166b-3695-4e5a-980b-e88d8e7152f6",
   "metadata": {},
   "source": [
    "Product of random numbers"
   ]
  },
  {
   "cell_type": "code",
   "execution_count": 2,
   "id": "148f5e22-3a4b-4b25-a2d3-e12a3d2214aa",
   "metadata": {},
   "outputs": [
    {
     "name": "stdout",
     "output_type": "stream",
     "text": [
      "X= 46\n",
      "y= 32\n"
     ]
    },
    {
     "name": "stdin",
     "output_type": "stream",
     "text": [
      "ENTER THE PRODUCT: 1472\n"
     ]
    },
    {
     "name": "stdout",
     "output_type": "stream",
     "text": [
      "correct answer :)\n"
     ]
    }
   ],
   "source": [
    "import random   #we are generating random values for x and y\n",
    "X = random.randint(0,50)\n",
    "Y= random.randint(0,50)\n",
    "actual_product = X*Y    # actual product calculation\n",
    "\n",
    "print(\"X=\",X)\n",
    "print(\"y=\",Y)\n",
    "input_product = int(input(\"ENTER THE PRODUCT:\"))   #taking input of product\n",
    "\n",
    "if actual_product == input_product :     # conditions to check whether the given input matches with actual product\n",
    "  print(\"correct answer :)\")\n",
    "else:\n",
    "  print(\"wrong answer :(\")\n"
   ]
  },
  {
   "cell_type": "raw",
   "id": "42b5d37a-6600-402c-97b7-ff5102db8c6d",
   "metadata": {},
   "source": [
    "Square of even odd numbers"
   ]
  },
  {
   "cell_type": "code",
   "execution_count": 4,
   "id": "b6d960e7-be0e-408a-8ab9-373b5dd6d2ec",
   "metadata": {},
   "outputs": [
    {
     "name": "stdin",
     "output_type": "stream",
     "text": [
      "Enter a number between 100 to 200: 111\n"
     ]
    },
    {
     "name": "stdout",
     "output_type": "stream",
     "text": [
      "100  is even number and its square is  10000\n",
      "101  is an odd number its square is  10201\n",
      "102  is even number and its square is  10404\n",
      "103  is an odd number its square is  10609\n",
      "104  is even number and its square is  10816\n",
      "105  is an odd number its square is  11025\n",
      "106  is even number and its square is  11236\n",
      "107  is an odd number its square is  11449\n",
      "108  is even number and its square is  11664\n",
      "109  is an odd number its square is  11881\n",
      "110  is even number and its square is  12100\n",
      "111  is an odd number its square is  12321\n",
      "112  is even number and its square is  12544\n",
      "113  is an odd number its square is  12769\n",
      "114  is even number and its square is  12996\n",
      "115  is an odd number its square is  13225\n",
      "116  is even number and its square is  13456\n",
      "117  is an odd number its square is  13689\n",
      "118  is even number and its square is  13924\n",
      "119  is an odd number its square is  14161\n",
      "120  is even number and its square is  14400\n",
      "121  is an odd number its square is  14641\n",
      "122  is even number and its square is  14884\n",
      "123  is an odd number its square is  15129\n",
      "124  is even number and its square is  15376\n",
      "125  is an odd number its square is  15625\n",
      "126  is even number and its square is  15876\n",
      "127  is an odd number its square is  16129\n",
      "128  is even number and its square is  16384\n",
      "129  is an odd number its square is  16641\n",
      "130  is even number and its square is  16900\n",
      "131  is an odd number its square is  17161\n",
      "132  is even number and its square is  17424\n",
      "133  is an odd number its square is  17689\n",
      "134  is even number and its square is  17956\n",
      "135  is an odd number its square is  18225\n",
      "136  is even number and its square is  18496\n",
      "137  is an odd number its square is  18769\n",
      "138  is even number and its square is  19044\n",
      "139  is an odd number its square is  19321\n",
      "140  is even number and its square is  19600\n",
      "141  is an odd number its square is  19881\n",
      "142  is even number and its square is  20164\n",
      "143  is an odd number its square is  20449\n",
      "144  is even number and its square is  20736\n",
      "145  is an odd number its square is  21025\n",
      "146  is even number and its square is  21316\n",
      "147  is an odd number its square is  21609\n",
      "148  is even number and its square is  21904\n",
      "149  is an odd number its square is  22201\n",
      "150  is even number and its square is  22500\n",
      "151  is an odd number its square is  22801\n",
      "152  is even number and its square is  23104\n",
      "153  is an odd number its square is  23409\n",
      "154  is even number and its square is  23716\n",
      "155  is an odd number its square is  24025\n",
      "156  is even number and its square is  24336\n",
      "157  is an odd number its square is  24649\n",
      "158  is even number and its square is  24964\n",
      "159  is an odd number its square is  25281\n",
      "160  is even number and its square is  25600\n",
      "161  is an odd number its square is  25921\n",
      "162  is even number and its square is  26244\n",
      "163  is an odd number its square is  26569\n",
      "164  is even number and its square is  26896\n",
      "165  is an odd number its square is  27225\n",
      "166  is even number and its square is  27556\n",
      "167  is an odd number its square is  27889\n",
      "168  is even number and its square is  28224\n",
      "169  is an odd number its square is  28561\n",
      "170  is even number and its square is  28900\n",
      "171  is an odd number its square is  29241\n",
      "172  is even number and its square is  29584\n",
      "173  is an odd number its square is  29929\n",
      "174  is even number and its square is  30276\n",
      "175  is an odd number its square is  30625\n",
      "176  is even number and its square is  30976\n",
      "177  is an odd number its square is  31329\n",
      "178  is even number and its square is  31684\n",
      "179  is an odd number its square is  32041\n",
      "180  is even number and its square is  32400\n",
      "181  is an odd number its square is  32761\n",
      "182  is even number and its square is  33124\n",
      "183  is an odd number its square is  33489\n",
      "184  is even number and its square is  33856\n",
      "185  is an odd number its square is  34225\n",
      "186  is even number and its square is  34596\n",
      "187  is an odd number its square is  34969\n",
      "188  is even number and its square is  35344\n",
      "189  is an odd number its square is  35721\n",
      "190  is even number and its square is  36100\n",
      "191  is an odd number its square is  36481\n",
      "192  is even number and its square is  36864\n",
      "193  is an odd number its square is  37249\n",
      "194  is even number and its square is  37636\n",
      "195  is an odd number its square is  38025\n",
      "196  is even number and its square is  38416\n",
      "197  is an odd number its square is  38809\n",
      "198  is even number and its square is  39204\n",
      "199  is an odd number its square is  39601\n",
      "200  is even number and its square is  40000\n"
     ]
    }
   ],
   "source": [
    "i = int(input(\"Enter a number between 100 to 200:\"))\r\n",
    "\r\n",
    "if i>=100 and i<200:\r\n",
    " for i in range(100,201) :\r\n",
    "        if i%2==0:\r\n",
    "         print(i,\" is even number and its square is \",i*i)\r\n",
    "        else :\r\n",
    "         print(i,\" is an odd number its square is \",i*i)\r\n",
    "else :\r\n",
    " print(\"not in given range\")"
   ]
  },
  {
   "cell_type": "markdown",
   "id": "9042db78-4e21-4362-8aa8-e2c60b134a4c",
   "metadata": {},
   "source": [
    "Word counter"
   ]
  },
  {
   "cell_type": "code",
   "execution_count": 5,
   "id": "ba2f99f5-fdd7-4408-8a60-ccbe7b3c2edd",
   "metadata": {},
   "outputs": [
    {
     "name": "stdout",
     "output_type": "stream",
     "text": [
      "100 is an even number and its square is 10000\n",
      "102 is an even number and its square is 10404\n",
      "104 is an even number and its square is 10816\n",
      "106 is an even number and its square is 11236\n",
      "108 is an even number and its square is 11664\n",
      "110 is an even number and its square is 12100\n",
      "112 is an even number and its square is 12544\n",
      "114 is an even number and its square is 12996\n",
      "116 is an even number and its square is 13456\n",
      "118 is an even number and its square is 13924\n",
      "120 is an even number and its square is 14400\n",
      "122 is an even number and its square is 14884\n",
      "124 is an even number and its square is 15376\n",
      "126 is an even number and its square is 15876\n",
      "128 is an even number and its square is 16384\n",
      "130 is an even number and its square is 16900\n",
      "132 is an even number and its square is 17424\n",
      "134 is an even number and its square is 17956\n",
      "136 is an even number and its square is 18496\n",
      "138 is an even number and its square is 19044\n",
      "140 is an even number and its square is 19600\n",
      "142 is an even number and its square is 20164\n",
      "144 is an even number and its square is 20736\n",
      "146 is an even number and its square is 21316\n",
      "148 is an even number and its square is 21904\n",
      "150 is an even number and its square is 22500\n",
      "152 is an even number and its square is 23104\n",
      "154 is an even number and its square is 23716\n",
      "156 is an even number and its square is 24336\n",
      "158 is an even number and its square is 24964\n",
      "160 is an even number and its square is 25600\n",
      "162 is an even number and its square is 26244\n",
      "164 is an even number and its square is 26896\n",
      "166 is an even number and its square is 27556\n",
      "168 is an even number and its square is 28224\n",
      "170 is an even number and its square is 28900\n",
      "172 is an even number and its square is 29584\n",
      "174 is an even number and its square is 30276\n",
      "176 is an even number and its square is 30976\n",
      "178 is an even number and its square is 31684\n",
      "180 is an even number and its square is 32400\n",
      "182 is an even number and its square is 33124\n",
      "184 is an even number and its square is 33856\n",
      "186 is an even number and its square is 34596\n",
      "188 is an even number and its square is 35344\n",
      "190 is an even number and its square is 36100\n",
      "192 is an even number and its square is 36864\n",
      "194 is an even number and its square is 37636\n",
      "196 is an even number and its square is 38416\n",
      "198 is an even number and its square is 39204\n",
      "200 is an even number and its square is 40000\n"
     ]
    }
   ],
   "source": [
    "# prompt: Create a Python script that prints the squares of all even or odd numbers within the range of 100 to 200. Choose either even or odd numbers and document your choice in the code.\n",
    "\n",
    "# This script prints the squares of all even numbers within the range of 100 to 200.\n",
    "\n",
    "for i in range(100, 201):\n",
    "  if i % 2 == 0:\n",
    "    print(f\"{i} is an even number and its square is {i**2}\")"
   ]
  },
  {
   "cell_type": "markdown",
   "id": "73683adf-2682-4908-ac14-876811177814",
   "metadata": {},
   "source": [
    "Write a program to count the number of words in a given text."
   ]
  },
  {
   "cell_type": "code",
   "execution_count": 6,
   "id": "d13da16e-af6f-4a00-b6d7-7a5e27b03849",
   "metadata": {},
   "outputs": [
    {
     "name": "stdout",
     "output_type": "stream",
     "text": [
      "The text contains 11 words.\n"
     ]
    }
   ],
   "source": [
    "def count_words(text):\n",
    "  \"\"\"\n",
    "  Counts the number of words in a given text.\n",
    "\n",
    "  Args:\n",
    "    text: The text to analyze.\n",
    "\n",
    "  Returns:\n",
    "    The number of words in the text.\n",
    "  \"\"\"\n",
    "\n",
    "  # Split the text into words.\n",
    "  words = text.split()\n",
    "\n",
    "  # Count the number of words.\n",
    "  num_words = len(words)\n",
    "\n",
    "  # Return the count.\n",
    "  return num_words\n",
    "\n",
    "\n",
    "# Example usage\n",
    "text = \"This is an example text to count the number of words.\"\n",
    "num_words = count_words(text)\n",
    "\n",
    "print(f\"The text contains {num_words} words.\")"
   ]
  },
  {
   "cell_type": "markdown",
   "id": "02f35c22-e9b3-491e-938c-9fdcc3534855",
   "metadata": {},
   "source": [
    "Check for Palindrome"
   ]
  },
  {
   "cell_type": "code",
   "execution_count": 7,
   "id": "55c8d535-71fb-491e-808d-4e0a84847ee4",
   "metadata": {},
   "outputs": [
    {
     "name": "stdin",
     "output_type": "stream",
     "text": [
      "Enter a string:  Shivani\n"
     ]
    },
    {
     "name": "stdout",
     "output_type": "stream",
     "text": [
      "Shivani is not a palindrome.\n"
     ]
    }
   ],
   "source": [
    "def is_palindrome(text):\n",
    "  \"\"\"\n",
    "  Checks if a string is a palindrome.\n",
    "\n",
    "  Args:\n",
    "    text: The string to check.\n",
    "\n",
    "  Returns:\n",
    "    True if the string is a palindrome, False otherwise.\n",
    "  \"\"\"\n",
    "\n",
    "  # Lowercase the string and remove whitespaces.\n",
    "  text = text.lower().strip()\n",
    "\n",
    "  # Check if the string is the same forwards and backwards.\n",
    "  return text == text[::-1]\n",
    "\n",
    "\n",
    "# Get input from user\n",
    "text = input(\"Enter a string: \")\n",
    "\n",
    "# Check if the string is a palindrome\n",
    "if is_palindrome(text):\n",
    "  print(f\"{text} is a palindrome.\")\n",
    "else:\n",
    "  print(f\"{text} is not a palindrome.\")\n"
   ]
  },
  {
   "cell_type": "code",
   "execution_count": null,
   "id": "de02458a-4e75-44a6-ad24-0fb464d7aac5",
   "metadata": {},
   "outputs": [],
   "source": []
  }
 ],
 "metadata": {
  "kernelspec": {
   "display_name": "Python 3 (ipykernel)",
   "language": "python",
   "name": "python3"
  },
  "language_info": {
   "codemirror_mode": {
    "name": "ipython",
    "version": 3
   },
   "file_extension": ".py",
   "mimetype": "text/x-python",
   "name": "python",
   "nbconvert_exporter": "python",
   "pygments_lexer": "ipython3",
   "version": "3.11.7"
  }
 },
 "nbformat": 4,
 "nbformat_minor": 5
}
