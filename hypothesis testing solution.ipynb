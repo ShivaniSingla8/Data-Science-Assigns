{
 "cells": [
  {
   "cell_type": "code",
   "execution_count": 1,
   "id": "316bd4ef-2512-49c0-9133-912c675f5fb0",
   "metadata": {},
   "outputs": [
    {
     "name": "stdout",
     "output_type": "stream",
     "text": [
      "Defaulting to user installation because normal site-packages is not writeable\n",
      "Requirement already satisfied: scipy in c:\\programdata\\anaconda3\\lib\\site-packages (1.11.4)\n",
      "Requirement already satisfied: numpy<1.28.0,>=1.21.6 in c:\\programdata\\anaconda3\\lib\\site-packages (from scipy) (1.26.4)\n"
     ]
    }
   ],
   "source": [
    "#Shivani\n",
    "!pip install scipy  "
   ]
  },
  {
   "cell_type": "code",
   "execution_count": 2,
   "id": "08e3417f-2dae-41eb-9e05-6bac938dd99f",
   "metadata": {},
   "outputs": [],
   "source": [
    "#from the given information we have :\tˉxˉ = (Rs. 3,050),\tμ =( 4000 ),σ = (25 units)\t,n = (25 restaurants)\n",
    "\n",
    "#we can see we have got sigma value so we will go for z test\n",
    "\n",
    "# looking at owners claim we can conclude that theoretical weekly cost of owner is around 3050.\n",
    "#considering scenarios here : H0 = mu <= 4000 (no increase in weekly operational cost)/ Ha = mu > 4000 (increase in weekly operational cost )"
   ]
  },
  {
   "cell_type": "code",
   "execution_count": 3,
   "id": "d21b3132-a874-4aa8-a891-ecf6f525f4b8",
   "metadata": {},
   "outputs": [],
   "source": [
    "#Hypothesis testing is typically used in quantitative research and predicts \n",
    "#the relationship between variables. A thesis statement is a short, direct sentence that summarizes the main point or claim of an essay or research paper."
   ]
  },
  {
   "cell_type": "code",
   "execution_count": 4,
   "id": "17c83a4c-c5aa-40e9-ad5f-812e6c36b6a0",
   "metadata": {},
   "outputs": [
    {
     "name": "stdout",
     "output_type": "stream",
     "text": [
      "5.962109654375954e-40\n"
     ]
    }
   ],
   "source": [
    "import pandas as pd\n",
    "import numpy as np\n",
    "import scipy.stats as stats\n",
    "\n",
    "#from the given information we have :\tˉxˉ = (Rs. 3,050),\tμ =( 4000 ),σ = (25 units)\t,n = (25 restaurants), alpha = 0.05\n",
    "\n",
    "#we can see we have got sigma value so we will go for z test\n",
    "\n",
    "# looking at owners claim we can conclude that theoretical weekly cost of owner is around 3050.\n",
    "#considering scenarios here : H0 = mu <= 4000 (no increase in weekly operational cost)/ Ha = mu > 4000 (increase in weekly operating costs  )\n",
    "\n",
    "# calculate the z-score\n",
    "z_score = (3050 - 4000) / (25 / np.sqrt(25))\n",
    "\n",
    "# calculate the p-value\n",
    "p_value = (stats.t.cdf(z_score,df=24))\n",
    "\n",
    "# print the p-value\n",
    "print(p_value)"
   ]
  },
  {
   "cell_type": "code",
   "execution_count": 5,
   "id": "c435d19b-86ab-4e0e-9d78-50b7d8ab55d0",
   "metadata": {},
   "outputs": [
    {
     "name": "stdout",
     "output_type": "stream",
     "text": [
      "Accept alternative hypothesis (Ha = increase in weekly operational cost ).\n",
      "-------------------\n"
     ]
    }
   ],
   "source": [
    "alpha =0.05  #constant\n",
    "if p_value>alpha:\n",
    "  print(f'Accept null hypothesis (H0 = no increase in weekly operational cost).\\n--------------------------')\n",
    "else:\n",
    "  print(f'Accept alternative hypothesis (Ha = increase in weekly operational cost ).\\n-------------------')"
   ]
  },
  {
   "cell_type": "markdown",
   "id": "348b37a4-bfb1-4596-85f6-6f1483a24a73",
   "metadata": {},
   "source": [
    "conclusion"
   ]
  },
  {
   "cell_type": "code",
   "execution_count": 6,
   "id": "89ca4b40-5e29-4afd-b1f0-56a6c8a3015c",
   "metadata": {},
   "outputs": [],
   "source": [
    "#as we can see p value is less than alpha so we are rejecting the null hypothesis and it concludes that as owner mentioned there is definately a increase in weekly operational cost\n",
    "     "
   ]
  },
  {
   "cell_type": "code",
   "execution_count": null,
   "id": "55ca2ea3-1761-4bd7-88d5-50d80a80d801",
   "metadata": {},
   "outputs": [],
   "source": []
  }
 ],
 "metadata": {
  "kernelspec": {
   "display_name": "Python 3 (ipykernel)",
   "language": "python",
   "name": "python3"
  },
  "language_info": {
   "codemirror_mode": {
    "name": "ipython",
    "version": 3
   },
   "file_extension": ".py",
   "mimetype": "text/x-python",
   "name": "python",
   "nbconvert_exporter": "python",
   "pygments_lexer": "ipython3",
   "version": "3.11.7"
  }
 },
 "nbformat": 4,
 "nbformat_minor": 5
}
