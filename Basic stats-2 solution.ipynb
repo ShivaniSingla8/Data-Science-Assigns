{
 "cells": [
  {
   "cell_type": "markdown",
   "id": "e23cd16b-502f-4a38-8f69-fdb6842b0800",
   "metadata": {},
   "source": [
    "Build 99% Confidence Interval Using Sample Standard Deviation :"
   ]
  },
  {
   "cell_type": "code",
   "execution_count": 1,
   "id": "e3d6bcc0-c518-42ce-9cfd-78475f09c0bf",
   "metadata": {},
   "outputs": [],
   "source": [
    "#Shivani\n",
    "import numpy as np\n",
    "\n",
    "# Sample data\n",
    "data = [1.13, 1.55, 1.43, 0.92, 1.25, 1.36, 1.32, 0.85, 1.07, 1.48, 1.20, 1.33, 1.18, 1.22, 1.29]\n",
    "\n",
    "# Calculate the sample mean\n",
    "mean = np.mean(data)\n",
    "\n",
    "# Calculate the sample standard deviation\n",
    "std_dev = np.std(data, ddof=1)\n",
    "     "
   ]
  },
  {
   "cell_type": "code",
   "execution_count": 2,
   "id": "d411947c-2e27-4509-a5cb-f501f1e02c8a",
   "metadata": {},
   "outputs": [],
   "source": [
    "from scipy.stats import norm\n",
    "\n",
    "# 99% confidence level corresponds to a z-score of 2.576\n",
    "critical_value = norm.ppf(1 - 0.01 / 2)\n",
    "     "
   ]
  },
  {
   "cell_type": "code",
   "execution_count": 3,
   "id": "5e6da65e-b029-4b6b-9735-119e7dd8aabe",
   "metadata": {},
   "outputs": [],
   "source": [
    "margin_of_error = critical_value * std_dev / np.sqrt(len(data))\r\n",
    "     "
   ]
  },
  {
   "cell_type": "code",
   "execution_count": 4,
   "id": "c8ce58da-30cb-40c2-a929-c0f2fd041f4a",
   "metadata": {},
   "outputs": [
    {
     "name": "stdout",
     "output_type": "stream",
     "text": [
      "99% Confidence Interval: (1.110197788578895, 1.3671355447544382)\n"
     ]
    }
   ],
   "source": [
    "lower_bound = mean - margin_of_error\n",
    "upper_bound = mean + margin_of_error\n",
    "\n",
    "print(f\"99% Confidence Interval: ({lower_bound}, {upper_bound})\")"
   ]
  },
  {
   "cell_type": "raw",
   "id": "333d6773-1f5c-427c-bae3-ca5a1442124a",
   "metadata": {},
   "source": [
    "\"\"\"The t-distribution is defined by the degrees of freedom.\n",
    "These are related to the sample size.\n",
    "The t-distribution is most useful for small sample sizes, when the population standard deviation is not known, or both.\n",
    "As the sample size increases, the t-distribution becomes more similar to a normal distribution\"\"\""
   ]
  },
  {
   "cell_type": "markdown",
   "id": "96a13c16-c7f4-44bb-a461-9bbe0e9e2369",
   "metadata": {},
   "source": [
    "b. Build 99% Confidence Interval Using Known Population Standard Deviation"
   ]
  },
  {
   "cell_type": "code",
   "execution_count": 5,
   "id": "47bde3d0-5909-43cb-a6d5-00ea88171e58",
   "metadata": {},
   "outputs": [],
   "source": [
    "import numpy as np\n",
    "\n",
    "# Sample data\n",
    "data2 = [1.13, 1.55, 1.43, 0.92, 1.25, 1.36, 1.32, 0.85, 1.07, 1.48, 1.20, 1.33, 1.18, 1.22, 1.29]\n",
    "\n",
    "# Calculate the sample mean\n",
    "mean = np.mean(data2)"
   ]
  },
  {
   "cell_type": "code",
   "execution_count": 6,
   "id": "7708b933-a220-4226-9d48-5b0a9ca3f4e6",
   "metadata": {},
   "outputs": [],
   "source": [
    "from scipy.stats import norm\n",
    "\n",
    "# 99% confidence level corresponds to a z-score of 2.576\n",
    "critical_value = norm.ppf(1 - 0.01 / 2)"
   ]
  },
  {
   "cell_type": "code",
   "execution_count": 7,
   "id": "4b535731-59b6-4b61-9003-8d261f7aecc6",
   "metadata": {},
   "outputs": [],
   "source": [
    "# Known population standard deviation\n",
    "population_std_dev = 2.5\n",
    "\n",
    "margin_of_error = critical_value * population_std_dev / np.sqrt(len(data2))"
   ]
  },
  {
   "cell_type": "code",
   "execution_count": 8,
   "id": "19568272-51be-40f7-a61f-83cca9878744",
   "metadata": {},
   "outputs": [
    {
     "name": "stdout",
     "output_type": "stream",
     "text": [
      "99% Confidence Interval: (-0.42402399921965683, 2.90135733255299)\n"
     ]
    }
   ],
   "source": [
    "lower_bound = mean - margin_of_error\n",
    "upper_bound = mean + margin_of_error\n",
    "\n",
    "print(f\"99% Confidence Interval: ({lower_bound}, {upper_bound})\")"
   ]
  },
  {
   "cell_type": "code",
   "execution_count": null,
   "id": "d07ee6ef-fa4c-4a1c-80a1-82f90d313b16",
   "metadata": {},
   "outputs": [],
   "source": []
  }
 ],
 "metadata": {
  "kernelspec": {
   "display_name": "Python 3 (ipykernel)",
   "language": "python",
   "name": "python3"
  },
  "language_info": {
   "codemirror_mode": {
    "name": "ipython",
    "version": 3
   },
   "file_extension": ".py",
   "mimetype": "text/x-python",
   "name": "python",
   "nbconvert_exporter": "python",
   "pygments_lexer": "ipython3",
   "version": "3.11.7"
  }
 },
 "nbformat": 4,
 "nbformat_minor": 5
}
